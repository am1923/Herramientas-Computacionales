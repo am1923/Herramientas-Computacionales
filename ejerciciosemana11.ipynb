{
 "cells": [
  {
   "cell_type": "markdown",
   "metadata": {},
   "source": [
    "## 0. Indicaciones\n",
    "\n",
    "**Resuelva los siguientes ejercicios acá mismo en un cuaderno de Jupyter con su nombre, código y la palabra `semana_11`. Importe todas las librerías que crea convenientes.**\n",
    "\n",
    "$$\n",
    "\\newcommand{\\pap}[1]{\\left(#1\\right)}\n",
    "\\newcommand{\\pas}[1]{\\left[#1\\right]}\n",
    "\\newcommand{\\pac}[1]{\\left\\{#1\\right\\}}\n",
    "\\newcommand{\\pav}[1]{\\left\\vert#1\\right\\vert}\n",
    "\\newcommand{\\rv}{\\vec{r}}\n",
    "\\newcommand{\\rb}{\\mathbf{r}}\n",
    "\\newcommand{\\xb}{\\mathbf{x}}\n",
    "\\newcommand{\\xv}{\\vec{x}}\n",
    "\\newcommand{\\ome}{\\omega}\n",
    "\\newcommand{\\eps}{\\epsilon}\n",
    "\\newcommand{\\iun}{\\hat{\\boldsymbol{\\imath}}}\n",
    "\\newcommand{\\jun}{\\hat{\\boldsymbol{\\jmath}}}\n",
    "\\newcommand{\\pr}{^{\\prime}}\n",
    "$$"
   ]
  },
  {
   "cell_type": "markdown",
   "metadata": {},
   "source": [
    "## 0.1 Datos\n",
    "\n",
    "Los siguientes datos son los casos acumulados detectados de *Covid-19* en Colombia desde el día 6 de marzo (día uno) hasta el día 14 de abril (día 39), los cuales están consignados en el *array* `y`. Estos datos han sido extraídos de la [página del INS](https://www.ins.gov.co/Noticias/Paginas/Coronavirus.aspx). El *array* `x` indica los días. El objetivo de este ejercicio será ajustar dichos datos con diferentes modelos, analizar la bondad del ajuste y sacar conclusiones interesantes con algunos de esos modelos. "
   ]
  },
  {
   "cell_type": "code",
   "execution_count": 28,
   "metadata": {},
   "outputs": [],
   "source": [
    "y=np.array([1,1, 1,    3,    9,   13,   16,   24,   45,   57,   75,\n",
    "        102,  128,  175,  210,  240,  306,  419,  481,  491,  539,  608,\n",
    "        702,  798,  906, 1065, 1161, 1267, 1406, 1485, 1579, 1780, 2054,\n",
    "       2223, 2473, 2709, 2776, 2852, 2979])\n",
    "x=np.linspace(1,len(y),len(y))"
   ]
  },
  {
   "cell_type": "markdown",
   "metadata": {},
   "source": [
    "## 1. Modelo polinomial\n",
    "\n",
    "### 1.1. Ajuste y gráfica (Valor 0.5)\n",
    "\n",
    "Haga un ajuste de los datos con un polinomio de grado 3 y un polinomio de grado 4. Grafique los datos junto con estas dos curvas de ajuste.\n",
    "\n",
    "### 1.2. Análisis de residuales y bondad de ajuste (Valor 0.7)\n",
    "\n",
    "Haga una gráfica de residuales de los ajustes para cada uno de los polinomios de grado 3 y 4. Además, calcule el valor de $\\chi_{\\nu}^2$ y la matriz de covarianzas para cada caso. Con sus resultados, explique cuál ajuste sería más conveniente y si alguno de los dos está sobreajustado o subajustado. Estos últimos comentarios los debe hacer en una celda de **Markdown**.  \n",
    "\n",
    "### 1.3. El día de máximo número de casos nuevos (Valor 0.6)\n",
    "Una **curva epidemiológica** muestra el número de casos nuevos cada día y esencialmente es la derivada de la función de casos acumulados que queremos modelar. Si nuestro modelo es un polinomio de grado 3:\n",
    "$$\n",
    "p(x)=ax^3+bx^2+cx+d \\:,\n",
    "\\tag{1}\n",
    "$$\n",
    "la curva epidemiológica será su derivada, \n",
    "$$\n",
    "p\\pr (x)=3ax^2+2bx+c\\: .\n",
    "\\tag{2}\n",
    "$$\n",
    "Un dato importante para preparar la respuesta sanitaria es el día en el que el número de casos nuevos llega a su máximo. Este día $x_m$ se puede calcular derivando la curva epidemiológica e igualando a cero, es decir, $x_m =-\\frac{b}{3a}$. Estime este día segun su modelo cúbico. ¿Tiene sentido el valor obtenido? Justifique su respuesta en una celda de **MarkDown**."
   ]
  },
  {
   "cell_type": "markdown",
   "metadata": {},
   "source": [
    "## 2. Modelo exponencial\n",
    "\n",
    "### 2.1. Ajuste y gráfica (Valor 0.6)\n",
    "\n",
    "Haga un ajuste de los datos con un modelo del tipo:\n",
    "$$\n",
    "\\eta (x)=\\eta_0 \\exp(-r x) \\;.\n",
    "\\tag{3}\n",
    "$$\n",
    "Al número $r$ se le conoce como **factor de contagio** e indica la probabilidad de que un caso acumulado contagie a otro persona por día. Grafique los datos observados junto con la curva del modelo exponencial ajustada.\n",
    "\n",
    "### 2.2. Análisis de residuales y bondad de ajuste (Valor 0.8)\n",
    "\n",
    "Haga una gráfica de residuales del ajuste del modelo exponencial. Además, calcule el valor de $\\chi_{\\nu}^2$ y la matriz de covarianzas. Con sus resultados, explique si este ajuste sería más conveniente que el de los casos polinómicos y si este ajuste está sobreajustado o subajustado. Estos últimos comentarios los debe hacer en una celda de **Markdown**. "
   ]
  },
  {
   "cell_type": "markdown",
   "metadata": {},
   "source": [
    "## 3. Modelo logístico\n",
    "\n",
    "### 3.1. Ajuste y gráfica (Valor 0.5)\n",
    "\n",
    "Haga un ajuste de los datos con un modelo del tipo:\n",
    "$$\n",
    "h(x)=\\frac{A}{1+b \\exp\\pap{-rx}}\\;.\n",
    "\\tag{4}\n",
    "$$\n",
    "El número $r$ es de nuevo un factor de contagio, el número $A$ indica el número de casos acumulados al final del brote epidémico, y el número $b$ está relacionado con el día de máximo número de casos. El número $A$ es muy importante, lo ideal sería que fuera lo más bajo posible. Grafique los datos observados junto con la curva del modelo logístico.\n",
    "\n",
    "### 3.2. Análisis de residuales y bondad de ajuste (Valor 0.7)\n",
    "\n",
    "Haga una gráfica de residuales del ajuste del modelo logístico. Además, calcule el valor de $\\chi_{\\nu}^2$ y la matriz de covarianzas. Con sus resultados, explique si este ajuste sería más conveniente que el de los casos anteriores y si este ajuste está sobreajustado o subajustado. Estos últimos comentarios los debe hacer en una celda de **Markdown**.  \n",
    "\n",
    "### 3.3. El día de máximo número de casos nuevos (Valor 0.6)\n",
    "El día máximo de número de casos $x_m$ también se puede calcular en este modelo logístico y es igual a $x_m = \\frac{\\ln b}{r}$. Note que la curva epidemiológica tiene la forma,\n",
    "$$\n",
    "h\\pr (x)=\\frac{rbA \\exp\\pap{-rx}}{\\pas{1+b\\exp\\pap{-rx}}^2} \\;.\n",
    "\\tag{5}\n",
    "$$\n",
    "Halle el día del máximo número de casos junto con el valor de $h\\pr \\pap{x_m}$. ¿Cuál de los dos modelos es más relevante para modelar la epidemia? ¿El modelo cúbico o el modelo logístico? Justifique su respuesta en una celda de **MarkDown**."
   ]
  }
 ],
 "metadata": {
  "kernelspec": {
   "display_name": "Python 3",
   "language": "python",
   "name": "python3"
  },
  "language_info": {
   "codemirror_mode": {
    "name": "ipython",
    "version": 3
   },
   "file_extension": ".py",
   "mimetype": "text/x-python",
   "name": "python",
   "nbconvert_exporter": "python",
   "pygments_lexer": "ipython3",
   "version": "3.7.4"
  }
 },
 "nbformat": 4,
 "nbformat_minor": 2
}
