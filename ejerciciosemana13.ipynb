{
 "cells": [
  {
   "cell_type": "markdown",
   "metadata": {},
   "source": [
    "## 0. Importado de librerías (valor 0.1) \n",
    "\n",
    "**Resuelva los siguientes ejercicios acá mismo en un cuaderno de Jupyter con su nombre, código y la palabra `semana_13`. Importe todas las librerías que crea convenientes.**\n",
    "\n",
    "$$\n",
    "\\newcommand{\\pap}[1]{\\left(#1\\right)}\n",
    "\\newcommand{\\pas}[1]{\\left[#1\\right]}\n",
    "\\newcommand{\\pac}[1]{\\left\\{#1\\right\\}}\n",
    "\\newcommand{\\pav}[1]{\\left\\vert#1\\right\\vert}\n",
    "\\newcommand{\\rv}{\\vec{r}}\n",
    "\\newcommand{\\rb}{\\mathbf{r}}\n",
    "\\newcommand{\\xb}{\\mathbf{x}}\n",
    "\\newcommand{\\xv}{\\vec{x}}\n",
    "\\newcommand{\\xbr}{\\bar{x}}\n",
    "\\newcommand{\\ome}{\\omega}\n",
    "\\newcommand{\\lam}{\\lambda}\n",
    "\\newcommand{\\dd}{\\mathrm{d}}\n",
    "\\newcommand{\\ee}{\\mathrm{e}}\n",
    "\\newcommand{\\eps}{\\epsilon}\n",
    "\\newcommand{\\iun}{\\hat{\\boldsymbol{\\imath}}}\n",
    "\\newcommand{\\jun}{\\hat{\\boldsymbol{\\jmath}}}\n",
    "\\newcommand{\\pr}{^{\\prime}}\n",
    "\\newcommand{\\chinu}{\\chi_{\\nu}^2}\n",
    "$$"
   ]
  },
  {
   "cell_type": "markdown",
   "metadata": {},
   "source": [
    "## 1. Calculando integrales (valor 1.6) \n",
    "\n",
    "Se sabe el siguiente resultado del cálculo integral:\n",
    "$$\n",
    "\\int_{-\\sqrt{3}}^{\\sqrt{3}} \\frac{1}{x^2+1} \\dd x = \\frac{2\\pi}{3}\n",
    "\\tag{1}\n",
    "$$\n",
    "1. Usted debe calcular la integral (1) en el intervalo $\\pas{-\\sqrt{3},\\sqrt{3}}$ mediante método de Monte-Carlo con 10000 puntos y mediante un método más preciso de `scipy`, además de calcular el valor exacto. Mediante tres `print`, usted debe publicar estos tres resultados. Note que el valor máximo de la función es 1.\n",
    "2. Usted debe graficar los puntos del método de Monte-Carlo mediante `plt.scatter` tal como se muestra en el ejemplo."
   ]
  },
  {
   "cell_type": "markdown",
   "metadata": {},
   "source": [
    "## 2. Metrópolis-Hastings para una distribución $y(x)$ (valor 1.7)\n",
    "\n",
    "Usted deberá generar 200000 números aleatorios que sigan la distribución:\n",
    "$$\n",
    "y(x)=x^2\\ee^{-10\\pav{x}}\n",
    "\\tag{2}\n",
    "$$\n",
    "en el intervalo $\\pas{-1.5,1.5}$. Esto lo deberá hacer usando el método **Metrópolis-Hashtings** explicado en el video de referencia. Además, usted deberá hacer una gráfica donde se superponga el histograma de los 200000 números junto a la curva de $y(x)$. Recuerde que ambas gráficas deben estar debidamente normalizadas."
   ]
  },
  {
   "cell_type": "markdown",
   "metadata": {},
   "source": [
    "## 3. Camino aleatorio (valor 1.6)\n",
    "\n",
    "Usted deberá generar un camino aleatorio que parta del punto $x=0$ en el tiempo $t=0$. En pasos de $\\Delta t =1$ usted debe decidir si en el siguiente paso se avanza o retrocede una unidad en $x$. En cada paso, la probabilidad de avanzar será del 70%, mientras que la de retroceder será de 30%. El camino aleatorio debe llegar hasta el tiempo t=3000. Este camino aleatorio debe hacerse con `numpy.random.rand()` y debe usar como semilla `numpy.random.seed(10)`.\n",
    "\n",
    "Como visualización de su resultado, usted deberá graficar mediante `plt.plot` tanto el camino aleatorio $x(t)$ como la función $\\bar{x}(t)=0.4t$ (esta función representa la trayectoria media en cualquier punto $t$)."
   ]
  },
  {
   "cell_type": "code",
   "execution_count": null,
   "metadata": {},
   "outputs": [],
   "source": []
  }
 ],
 "metadata": {
  "kernelspec": {
   "display_name": "Python 3",
   "language": "python",
   "name": "python3"
  },
  "language_info": {
   "codemirror_mode": {
    "name": "ipython",
    "version": 3
   },
   "file_extension": ".py",
   "mimetype": "text/x-python",
   "name": "python",
   "nbconvert_exporter": "python",
   "pygments_lexer": "ipython3",
   "version": "3.7.4"
  }
 },
 "nbformat": 4,
 "nbformat_minor": 2
}
