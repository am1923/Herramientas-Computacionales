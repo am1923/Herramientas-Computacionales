{
 "cells": [
  {
   "cell_type": "markdown",
   "metadata": {},
   "source": [
    "## 0. Importado de librerías (valor 0.2) \n",
    "\n",
    "**Resuelva los siguientes ejercicios acá mismo en un cuaderno de Jupyter con su nombre, código y la palabra `semana_12`. Importe todas las librerías que crea convenientes.**\n",
    "\n",
    "$$\n",
    "\\newcommand{\\pap}[1]{\\left(#1\\right)}\n",
    "\\newcommand{\\pas}[1]{\\left[#1\\right]}\n",
    "\\newcommand{\\pac}[1]{\\left\\{#1\\right\\}}\n",
    "\\newcommand{\\pav}[1]{\\left\\vert#1\\right\\vert}\n",
    "\\newcommand{\\rv}{\\vec{r}}\n",
    "\\newcommand{\\rb}{\\mathbf{r}}\n",
    "\\newcommand{\\xb}{\\mathbf{x}}\n",
    "\\newcommand{\\xv}{\\vec{x}}\n",
    "\\newcommand{\\xbr}{\\bar{x}}\n",
    "\\newcommand{\\ome}{\\omega}\n",
    "\\newcommand{\\lam}{\\lambda}\n",
    "\\newcommand{\\ee}{\\mathrm{e}}\n",
    "\\newcommand{\\eps}{\\epsilon}\n",
    "\\newcommand{\\iun}{\\hat{\\boldsymbol{\\imath}}}\n",
    "\\newcommand{\\jun}{\\hat{\\boldsymbol{\\jmath}}}\n",
    "\\newcommand{\\pr}{^{\\prime}}\n",
    "\\newcommand{\\chinu}{\\chi_{\\nu}^2}\n",
    "$$"
   ]
  },
  {
   "cell_type": "code",
   "execution_count": 2,
   "metadata": {},
   "outputs": [
    {
     "ename": "ModuleNotFoundError",
     "evalue": "No module named 'numpy'",
     "output_type": "error",
     "traceback": [
      "\u001b[0;31m---------------------------------------------------------------------------\u001b[0m",
      "\u001b[0;31mModuleNotFoundError\u001b[0m                       Traceback (most recent call last)",
      "\u001b[0;32m<ipython-input-2-3aad490348cb>\u001b[0m in \u001b[0;36m<module>\u001b[0;34m\u001b[0m\n\u001b[0;32m----> 1\u001b[0;31m \u001b[0;32mimport\u001b[0m \u001b[0mnumpy\u001b[0m \u001b[0;32mas\u001b[0m \u001b[0mnp\u001b[0m\u001b[0;34m\u001b[0m\u001b[0;34m\u001b[0m\u001b[0m\n\u001b[0m\u001b[1;32m      2\u001b[0m \u001b[0;32mimport\u001b[0m \u001b[0mmatplotlib\u001b[0m\u001b[0;34m.\u001b[0m\u001b[0mpyplot\u001b[0m \u001b[0;32mas\u001b[0m \u001b[0mplt\u001b[0m\u001b[0;34m\u001b[0m\u001b[0;34m\u001b[0m\u001b[0m\n\u001b[1;32m      3\u001b[0m \u001b[0;32mimport\u001b[0m \u001b[0mrandom\u001b[0m \u001b[0;32mas\u001b[0m \u001b[0mrd\u001b[0m\u001b[0;34m\u001b[0m\u001b[0;34m\u001b[0m\u001b[0m\n\u001b[1;32m      4\u001b[0m \u001b[0mget_ipython\u001b[0m\u001b[0;34m(\u001b[0m\u001b[0;34m)\u001b[0m\u001b[0;34m.\u001b[0m\u001b[0mrun_line_magic\u001b[0m\u001b[0;34m(\u001b[0m\u001b[0;34m'matplotlib'\u001b[0m\u001b[0;34m,\u001b[0m \u001b[0;34m'inline'\u001b[0m\u001b[0;34m)\u001b[0m\u001b[0;34m\u001b[0m\u001b[0;34m\u001b[0m\u001b[0m\n",
      "\u001b[0;31mModuleNotFoundError\u001b[0m: No module named 'numpy'"
     ]
    }
   ],
   "source": [
    "import numpy as np\n",
    "import matplotlib.pyplot as plt\n",
    "import random as rd\n",
    "%matplotlib inline"
   ]
  },
  {
   "cell_type": "markdown",
   "metadata": {},
   "source": [
    "# I. La distribución exponencial\n",
    "\n",
    "## I.1 Generación de los datos (valor 0.8)\n",
    "\n",
    "Genere aleatoriamonte $10^6$ números $t$ a partir de la [distribución exponencial](https://en.wikipedia.org/wiki/Exponential_distribution), la cual tiene la siguiente función de densidad de probabilidad,\n",
    "$$\n",
    "f(t)=\\frac{\\ee^{-t/\\tau}}{\\tau}\\:\\:\\:\\text{para $t\\in[0,\\infty)$ .}\n",
    "\\tag{1}\n",
    "$$\n",
    "En el fondo esta función modela un **proceso de Poisson** como los _clicks_ en un [contador Geiger](https://en.wikipedia.org/wiki/Geiger_counter). En realidad, con esta función se simula cualquier proceso donde la ocurrencia de un evento es totalmente independiente de los demás, pero existe un número de eventos promedio en un intervalo. En particular, la variable $t$ puede ser el tiempo que hay que esperar entre dos eventos consecutivos siendo $\\tau$ su tiempo promedio. Vamos a imaginar que estos tiempos son los segundos que hay que esperar entre dos _clicks_ consecutivos de un contador Geiger. Escoja un valor de $\\tau$ entre 0.01 y 0.07 utilizando las función `expovariate` de la librería `random`. **Note que la función `random.expovariate` pide como parámetro:** $\\lam=\\frac{1}{\\tau}$. La lista de números aleatorios debe ser un _array_ de `numpy` llamado `tlist`."
   ]
  },
  {
   "cell_type": "code",
   "execution_count": null,
   "metadata": {},
   "outputs": [],
   "source": [
    "tlist=[]\n",
    "for i in range (0,10^6)\n",
    "    tau=0.05\n",
    "    l=1/tau\n",
    "    tlist.append(rd.expovariate(l))\n",
    "print (tlist)"
   ]
  },
  {
   "cell_type": "markdown",
   "metadata": {},
   "source": [
    "## I.2 Confirmación de estadísticos (valor 0.8)\n",
    "\n",
    "Consulte en la [página de Wikipedia](https://en.wikipedia.org/wiki/Exponential_distribution) cúales son los valores del promedio, la mediana y la desviación estándar de la distribución en función de $\\tau$. Estos valores se conocen como **_estadísticos_**. **Note que en Wikipedia el parámetro utilizado es:** $\\lam=\\frac{1}{\\tau}$. Mediante funciones `print`, compare los tres estadísticos mencionados de su lista `tlist` con los que en teoría son predichos para esa distribución. Use por lo menos seis decimales al mostrar los números que está comparando."
   ]
  },
  {
   "cell_type": "code",
   "execution_count": null,
   "metadata": {},
   "outputs": [],
   "source": [
    "mean1=\"{:.6f}\".format(1/l)\n",
    "median1=\"{:.6f}\".format(np.ln(2)/l)\n",
    "desv1=\"{:.6f}\".format(1/l)\n",
    "mean2=\"{:.6f}\".format(mean(tlist))\n",
    "median2=\"{:.6f}\".format(median(tlist))\n",
    "desviacion2=\"{:.6f}\".format(std(tlist))\n",
    "formatted_float = \"{:.6f}\".format(a_float)\n",
    "print(\"La media, la mediana y la desviacion estandar usando las formulas de wikipedia son\",mean1 ,median1 ,desv1 \"respectivamente. Con las funciones de python son\" mean2 ,median2 ,desv2 \"respectivamente\")\n"
   ]
  },
  {
   "cell_type": "markdown",
   "metadata": {},
   "source": [
    "## I.3. Confirmación gráfica 1 (valor 0.8)\n",
    "\n",
    "Realice una gráfica que superponga un histograma de `tlist` debidamente normalizado a la curva $f(t)$ tal como se describe en la Ec. (1). La gráfica debe estar en el intervalo $t\\in\\pas{0,5\\tau}$ y debe tener al menos 40 intervalos de histograma. Además, la gráfica debe tener un título y una leyenda debidamente configurados."
   ]
  },
  {
   "cell_type": "code",
   "execution_count": 1,
   "metadata": {},
   "outputs": [
    {
     "ename": "NameError",
     "evalue": "name 'np' is not defined",
     "output_type": "error",
     "traceback": [
      "\u001b[0;31m---------------------------------------------------------------------------\u001b[0m",
      "\u001b[0;31mNameError\u001b[0m                                 Traceback (most recent call last)",
      "\u001b[0;32m<ipython-input-1-2f2a1ff43136>\u001b[0m in \u001b[0;36m<module>\u001b[0;34m\u001b[0m\n\u001b[0;32m----> 1\u001b[0;31m \u001b[0mt\u001b[0m \u001b[0;34m=\u001b[0m \u001b[0mnp\u001b[0m\u001b[0;34m.\u001b[0m\u001b[0mlinspace\u001b[0m\u001b[0;34m(\u001b[0m\u001b[0;36m0\u001b[0m\u001b[0;34m,\u001b[0m\u001b[0;36m5\u001b[0m\u001b[0;34m*\u001b[0m\u001b[0mtau\u001b[0m\u001b[0;34m,\u001b[0m\u001b[0;36m40\u001b[0m\u001b[0;34m)\u001b[0m\u001b[0;34m\u001b[0m\u001b[0;34m\u001b[0m\u001b[0m\n\u001b[0m\u001b[1;32m      2\u001b[0m \u001b[0mf\u001b[0m\u001b[0;34m=\u001b[0m\u001b[0mplt\u001b[0m\u001b[0;34m.\u001b[0m\u001b[0mfigure\u001b[0m\u001b[0;34m(\u001b[0m\u001b[0mfigsize\u001b[0m\u001b[0;34m=\u001b[0m\u001b[0;34m(\u001b[0m\u001b[0;36m14\u001b[0m\u001b[0;34m,\u001b[0m\u001b[0;36m14\u001b[0m\u001b[0;34m)\u001b[0m\u001b[0;34m)\u001b[0m\u001b[0;34m\u001b[0m\u001b[0;34m\u001b[0m\u001b[0m\n\u001b[1;32m      3\u001b[0m ax1 = f.add_subplot(321,title=\"Grafica 1\",frameon=True,xlabel=\"valor de tau\",\n\u001b[1;32m      4\u001b[0m                     ylabel=\"frecuencia\")\n\u001b[1;32m      5\u001b[0m \u001b[0max1\u001b[0m\u001b[0;34m.\u001b[0m\u001b[0mplot\u001b[0m\u001b[0;34m(\u001b[0m\u001b[0mnp\u001b[0m\u001b[0;34m.\u001b[0m\u001b[0mexp\u001b[0m\u001b[0;34m(\u001b[0m\u001b[0mt\u001b[0m\u001b[0;34m/\u001b[0m\u001b[0mtau\u001b[0m\u001b[0;34m)\u001b[0m\u001b[0;34m/\u001b[0m\u001b[0mtau\u001b[0m\u001b[0;34m,\u001b[0m\u001b[0mlinewidth\u001b[0m\u001b[0;34m=\u001b[0m\u001b[0;36m0.6\u001b[0m\u001b[0;34m)\u001b[0m\u001b[0;34m\u001b[0m\u001b[0;34m\u001b[0m\u001b[0m\n",
      "\u001b[0;31mNameError\u001b[0m: name 'np' is not defined"
     ]
    }
   ],
   "source": [
    "t = np.linspace(0,5*tau,40)\n",
    "f=plt.figure(figsize=(14,14))\n",
    "ax1 = f.add_subplot(321,title=\"Grafica 1\",frameon=True,xlabel=\"t\",\n",
    "                    ylabel=\"frecuencia\")\n",
    "ax1.plot(np.exp(t/tau)/tau,linewidth=0.6)"
   ]
  },
  {
   "cell_type": "markdown",
   "metadata": {},
   "source": [
    "## I.4. Confirmación gráfica 2 (valor 0.8)\n",
    "\n",
    "Realice una gráfica que superponga un histograma de **probabilidades acumuladas** de `tlist` debidamente normalizado a la curva de probabilidad acumulada definida como:\n",
    "$$\n",
    "F(t)=1-\\ee^{-t/\\tau} \\;.\n",
    "\\tag{2}\n",
    "$$ \n",
    "La gráfica debe estar en el intervalo $t\\in\\pas{0,5\\tau}$ y debe tener al menos 40 intervalos de histograma. Además, la gráfica debe tener un título y una leyenda debidamente configurados."
   ]
  },
  {
   "cell_type": "code",
   "execution_count": null,
   "metadata": {},
   "outputs": [],
   "source": [
    "t = np.linspace(0,5*tau,40)\n",
    "f=plt.figure(figsize=(14,14))\n",
    "ax1 = f.add_subplot(322,title=\"Grafica 2\",frameon=True,xlabel=\"t\",\n",
    "                    ylabel=\"probabilidad acumulada\")\n",
    "ax1.plot(np.exp(t/tau)/tau,linewidth=0.6)"
   ]
  },
  {
   "cell_type": "markdown",
   "metadata": {},
   "source": [
    "# II. La distribución de Poisson\n",
    "\n",
    "## II.0 Generando los datos\n",
    "\n",
    "Escoja un valor de la variable `T` entre 0.8 y 3. Con la siguiente celda usted va a generar una nueva lista de números aleatorios llamada `nlist`. Tenga un poco de paciencia, el procesado de los datos tardará unos pocos segundos. Estos nuevos datos son todos enteros y en teoría deberían seguir una [**_distribución de Poisson_**](https://en.wikipedia.org/wiki/Poisson_distribution) con promedio $\\mu = \\frac{T}{\\tau}$. En nuestro ejercicio imaginario, esta variable representa el número de _clicks_ que el contador Geiger detecta en un intervalo de tiempo $T$. \n"
   ]
  },
  {
   "cell_type": "code",
   "execution_count": 116,
   "metadata": {},
   "outputs": [],
   "source": [
    "T=1\n",
    "def poisson_from_tlist(tlist,tau,T):\n",
    "    n=len(tlist)\n",
    "    nlist=[]\n",
    "    for i in range(n-60*int(np.round(T/tau))):\n",
    "        n=-1\n",
    "        x=0\n",
    "        j=0\n",
    "        while x<T:\n",
    "            n+=1\n",
    "            x+=tlist[i+j]\n",
    "            j+=1\n",
    "        nlist.append(n)\n",
    "    return np.array(nlist)\n",
    "nlist=poisson_from_tlist(tlist,tau,T)"
   ]
  },
  {
   "cell_type": "markdown",
   "metadata": {},
   "source": [
    "## II.1 Comparando estadísticos (valor 0.8)\n",
    "\n",
    "Haga una comparación análoga a la del punto **I.2** pero con `nlist` y la distribución de Poisson."
   ]
  },
  {
   "cell_type": "markdown",
   "metadata": {},
   "source": [
    "## II.2 Confirmación gráfica (valor 0.8)\n",
    "\n",
    "Haga una comparacióna análoga a la del punto **I.3** pero con `nlist` y la distribución de Poisson. Los valores de $n$ recomendados son $n\\in\\pac{0,1,2,\\ldots,n_{\\max}-1,n_{\\max}}$ donde $n_{\\max}=\\left \\lceil{2.1 \\mu}\\right \\rceil $ (el entero igual o inmediatamente por encima de $2.1\\mu$). En este caso, cada número entero debe tener su probabilidad distinta, para lograr esto, escoja el número de `bins` como $n_{\\max}+1$."
   ]
  },
  {
   "cell_type": "code",
   "execution_count": null,
   "metadata": {},
   "outputs": [],
   "source": []
  }
 ],
 "metadata": {
  "kernelspec": {
   "display_name": "Python 3",
   "language": "python",
   "name": "python3"
  },
  "language_info": {
   "codemirror_mode": {
    "name": "ipython",
    "version": 3
   },
   "file_extension": ".py",
   "mimetype": "text/x-python",
   "name": "python",
   "nbconvert_exporter": "python",
   "pygments_lexer": "ipython3",
   "version": "3.7.6"
  }
 },
 "nbformat": 4,
 "nbformat_minor": 2
}
