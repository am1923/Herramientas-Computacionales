{
 "cells": [
  {
   "cell_type": "markdown",
   "metadata": {},
   "source": [
    "$$\n",
    "\\newcommand{\\pap}[1]{\\left(#1\\right)}\n",
    "\\newcommand{\\pas}[1]{\\left[#1\\right]}\n",
    "\\newcommand{\\pac}[1]{\\left\\{#1\\right\\}}\n",
    "\\newcommand{\\pav}[1]{\\left\\vert#1\\right\\vert}\n",
    "\\newcommand{\\rv}{\\vec{r}}\n",
    "\\newcommand{\\rb}{\\mathbf{r}}\n",
    "\\newcommand{\\xb}{\\mathbf{x}}\n",
    "\\newcommand{\\xv}{\\vec{x}}\n",
    "\\newcommand{\\ome}{\\omega}\n",
    "\\newcommand{\\eps}{\\epsilon}\n",
    "\\newcommand{\\ee}{\\mathrm{e}}\n",
    "\\newcommand{\\iun}{\\hat{\\boldsymbol{\\imath}}}\n",
    "\\newcommand{\\jun}{\\hat{\\boldsymbol{\\jmath}}}\n",
    "$$\n",
    "## 0. Indicaciones\n",
    "\n",
    "**Resuelva los siguientes ejercicios acá mismo en un cuaderno de Jupyter con su nombre, código y la palabra `semana_10`. Importe todas las librerías que crea convenientes.**"
   ]
  },
  {
   "cell_type": "markdown",
   "metadata": {},
   "source": [
    "\n",
    "## 1. Método de Newton-Raphson \n",
    "\n",
    "### 1.1 Hallar la raíz (Valor 1.5)\n",
    "\n",
    "Se sabe que la función:\n",
    "$$\n",
    "f\\pap{x}=\\sin(5x)\\ee^{-x}+x-2\n",
    "\\tag{1}\n",
    "$$\n",
    "\n",
    "tiene una raíz $x_r$ en el intervalo $I=\\pas{1,3}$. El objetivo será hallar dicha raíz mediante el _método de Newton-Raphson_. Encuentre dicha raíz con una precisión $\\eps =10^{-7}$. Mediante un `print` exprese la solución hallada (siga el ejemplo al respecto).\n",
    "\n",
    "**Nota:** La derivada de dicha función es\n",
    "$$\n",
    "f^{\\prime}(x)=\\pap{5\\cos(5x)-\\sin(5x)}\\ee^{-x}+1\\;.\n",
    "\\tag{2}\n",
    "$$\n",
    "\n",
    "### 1.2 Graficar el método (valor 1.0)\n",
    "\n",
    "Grafique la función $f(x)$ y los tres primeros pasos del método descrito en el punto anterior.\n"
   ]
  },
  {
   "cell_type": "markdown",
   "metadata": {},
   "source": [
    "## 2. Método de Barrido\n",
    "\n",
    "### 2.1 Hallar la raíz (Valor 0.8)\n",
    "\n",
    "Resuelva el mismo problema del caso anterior pero con método de barrido. Asegúrese de que la solución tenga la misma precisión. Para que el método no tarde tanto, debe escoger un intervalo de barrido más pequeño que $I=\\pas{1,3}$.\n",
    "\n",
    "### 2.2 Ilustración gráfica (Valor 0.7)\n",
    "\n",
    "Grafique la función $\\pav{f(x)}$ en el intervalo $I$ para que ilustre la solución anterior."
   ]
  },
  {
   "cell_type": "markdown",
   "metadata": {},
   "source": [
    "## 3. Método de Bisección (Valor 1.0)\n",
    "\n",
    "Resuelva el problema del **punto 1.1** pero con método de bisección. Muestre los intervalos $I_n$ de cada paso durante el método."
   ]
  }
 ],
 "metadata": {
  "kernelspec": {
   "display_name": "Python 3",
   "language": "python",
   "name": "python3"
  },
  "language_info": {
   "codemirror_mode": {
    "name": "ipython",
    "version": 3
   },
   "file_extension": ".py",
   "mimetype": "text/x-python",
   "name": "python",
   "nbconvert_exporter": "python",
   "pygments_lexer": "ipython3",
   "version": "3.7.4"
  }
 },
 "nbformat": 4,
 "nbformat_minor": 2
}
