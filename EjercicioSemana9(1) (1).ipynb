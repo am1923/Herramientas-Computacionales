{
 "cells": [
  {
   "cell_type": "code",
   "execution_count": 1,
   "metadata": {},
   "outputs": [],
   "source": [
    "import numpy as np\n",
    "import matplotlib.pyplot as plt\n",
    "from mpl_toolkits.mplot3d import Axes3D\n",
    "%matplotlib inline"
   ]
  },
  {
   "cell_type": "markdown",
   "metadata": {},
   "source": [
    "$$\n",
    "\\newcommand{\\pap}[1]{\\left(#1\\right)}\n",
    "\\newcommand{\\pas}[1]{\\left[#1\\right]}\n",
    "\\newcommand{\\pac}[1]{\\left\\{#1\\right\\}}\n",
    "\\newcommand{\\pav}[1]{\\left\\vert#1\\right\\vert}\n",
    "\\newcommand{\\rb}{\\mathbf{r}}\n",
    "\\newcommand{\\nunn}{\\hat{\\boldsymbol{n}}}\n",
    "\\newcommand{\\ee}{\\mathrm{e}}\n",
    "\\newcommand{\\RR}{\\mathbb{R}}\n",
    "$$\n",
    "## 0. Indicaciones\n",
    "\n",
    "**Resuelva los siguientes ejercicios acá mismo en un cuaderno de Jupyter con su nombre, código y la palabra `semana_9`**."
   ]
  },
  {
   "cell_type": "markdown",
   "metadata": {},
   "source": [
    "\n",
    "## 1. Función de una variable\n",
    "\n",
    "### 1.1 Gráficas en 2D (Valor 1.5)\n",
    "\n",
    "Grafique dos veces la función $f\\pap{x}=\\ee^{-x}\\pap{x^3-5}$ en el intervalo $x\\in\\pas{0,7}$. Utilice un arreglo de `linspace` con 201 puntos para `x`. La primera gráfica debe ser con `scatter` y la segunda con `plot`. Estas dos gráficas deben mostrarse como dos `subplot` (una al lado de la otra).\n",
    "\n",
    "### 1.2. Máximo de $f(x)$ en el intervalo (Valor 0.5)\n",
    "\n",
    "Usando simplemente los arreglos hechos del punto anterior, encuentre el valor $x_m$ y el valor $f\\pap{x_m}$ donde la función $f(x)$ es máxima en el intervalo $x\\in\\pas{0,7}$. Dé su respuesta con un llamado de `print` adecuado.\n"
   ]
  },
  {
   "cell_type": "markdown",
   "metadata": {},
   "source": [
    "## 2. Base ortonormal en $\\RR ^3$ (Valor 1.0)\n",
    "\n",
    "Sean dos vectores $\\rb _1 =\\pap{1,2,1}$ y $\\rb _ 2=\\pap{3,4,5}$ en el espacio euclidiano $\\RR ^3$. Se quiere construir una base ortonormal $\\pac{\\nunn _1,\\nunn _2,\\nunn _3}$ siguiendo el método de Grahm-Schmidt y el producto cruz de la siguiente manera:\n",
    "\n",
    "1. El primer vector es $\\nunn _1 = \\frac{\\rb _1}{\\pav{\\rb _1}}$\n",
    "2. El segundo vector se define como $\\nunn _2 = \\frac{\\rb _p}{\\pav{\\rb _p}}$, donde $\\rb _p = \\rb_2-\\pap{\\nunn _1 \\cdot \\rb_2}\\nunn _1$.\n",
    "3. El tercer vector se define como $\\nunn _3 = \\nunn _1 \\times \\nunn _2$\n",
    "\n",
    "Halle usando `numpy` estos tres vectores e imprima su respectivos arreglos de forma adecuada."
   ]
  },
  {
   "cell_type": "markdown",
   "metadata": {},
   "source": [
    "## 3. Funciones de dos variables\n",
    "\n",
    "Sean $f(x,y)=(x-3)^2+(y-2)^2-xy$, $g(x,y)=y-(x-1)^2$ dos funciones de dos variables reales. Sabemos que en el intervalo $(x,y)\\in \\pas{0,3}^2$ hay un único punto $(x_0,y_0)$ donde las dos funciones se anulan. Ese punto es el mínimo de la función $h(x,y)=f(x,y)^2+g(x,y)^2$.\n",
    "\n",
    "### 3.1. Gráficas de las funciones (Valor 1.5)\n",
    "\n",
    "En una sola figura con 4 `subplot` (arreglo de figuras $2\\times 2$), grafique las cuatro funciones $f,g,h,\\sqrt{h}$ de tal forma que la primera sea respectivamente una gráfica 3D de superficie (`plot_surface`), la segunda un `scatter` 3D, la tercera una densidad con `pcolormesh` y la cuarta un contorno con `contourf`. La red de puntos debería ser de tamaño $301\\times 301$. \n",
    "\n",
    "### 3.2. Encuentre el $(x_0,y_0)$ (Valor 0.5)\n",
    "\n",
    "Imprima adecuadamente la respuesta con un `print`."
   ]
  }
 ],
 "metadata": {
  "kernelspec": {
   "display_name": "Python 3",
   "language": "python",
   "name": "python3"
  },
  "language_info": {
   "codemirror_mode": {
    "name": "ipython",
    "version": 3
   },
   "file_extension": ".py",
   "mimetype": "text/x-python",
   "name": "python",
   "nbconvert_exporter": "python",
   "pygments_lexer": "ipython3",
   "version": "3.7.4"
  }
 },
 "nbformat": 4,
 "nbformat_minor": 2
}
